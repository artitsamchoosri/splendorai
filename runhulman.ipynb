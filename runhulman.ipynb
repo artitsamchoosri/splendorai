{
 "cells": [
  {
   "cell_type": "code",
   "execution_count": 1,
   "metadata": {},
   "outputs": [],
   "source": [
    "import os\n",
    "from IPython.display import clear_output\n",
    "import time \n",
    "import math\n",
    "import numpy as np\n",
    "import random\n",
    "from collections import defaultdict\n",
    "import json\n",
    "import csv\n",
    "from IPython.core.interactiveshell import InteractiveShell\n",
    "InteractiveShell.ast_node_interactivity = \"all\"\n",
    "from splender import splender\n",
    "clear = lambda: os.system('cls')"
   ]
  },
  {
   "cell_type": "code",
   "execution_count": null,
   "metadata": {},
   "outputs": [],
   "source": [
    "game = splender()\n",
    "Round = 1\n",
    "player=0\n",
    "type_play=2\n",
    "with open('splender.json') as f:\n",
    "    q = json.load(f)\n",
    "def legal_moves(board):\n",
    "    return np.asarray(np.where(board == 0)).flatten()\n",
    "def new_q(q, moves):\n",
    "    new_q = [0] * 9\n",
    "    for i in range(len(q)):\n",
    "        if i not in moves:\n",
    "            new_q[i] = -200\n",
    "        else:\n",
    "            new_q[i] = q[i]\n",
    "    return new_q\n",
    "while(True):\n",
    "        clear_output(wait=True)\n",
    "        if Round%2 == 0 :\n",
    "                player = 2\n",
    "        elif Round%2 == 1 :\n",
    "                player = 1\n",
    "        print(\"Round : {} Player : {} || \".format(math.ceil(Round/2),player))\n",
    "        game.open_card_buy()\n",
    "        if(game.score_P1>=10):\n",
    "                time.sleep(5)\n",
    "                clear()\n",
    "                clear_output(wait=True)\n",
    "                print(\"Round : {}\".format(math.ceil(Round/2)))\n",
    "                print(\"Score_P1 : {}\".format(game.score_P1))\n",
    "                print(\"Score_P2 : {}\".format(game.score_P2))\n",
    "                print(\"Player 1 is Win\")\n",
    "                break\n",
    "        elif game.score_P2>=10:\n",
    "                time.sleep(5)\n",
    "                clear()\n",
    "                clear_output(wait=True)\n",
    "                print(\"Round : {}\".format(math.ceil(Round/2)))\n",
    "                print(\"Score_P1 : {}\".format(game.score_P1))\n",
    "                print(\"Score_P2 : {}\".format(game.score_P2))\n",
    "                print(\"Player 2 is Win\")\n",
    "                break\n",
    "        if type_play == 2 :\n",
    "            if player == 1:\n",
    "                print(\"Bot\")\n",
    "                listaction=[]\n",
    "                listaction.append(\"GEM\")\n",
    "                list_buy_card=game.check_buy_card(player)\n",
    "                #print(len(list_buy_card))\n",
    "\n",
    "                legal_moves = legal_moves(game.open_used)\n",
    "                cardbuy = np.argmax(new_q(q[str(game.open_used)], legal_moves))\n",
    "\n",
    "                game.show_field()\n",
    "                if(len(list_buy_card)>0):\n",
    "                    listaction.append(\"BUY\")\n",
    "                else:\n",
    "                    listaction.append(\"GEM\")\n",
    "                print(listaction)\n",
    "                action=random.choices(population=listaction,weights=[0.01,0.99])\n",
    "                if(action[0]==\"BUY\"):\n",
    "                    game.action_buy(player,cardbuy)\n",
    "                else:\n",
    "                    game.action_gem(player,cardbuy,\"bot\")\n",
    "                print(\"Player {} Action {} \".format(str(player),action[0]))\n",
    "                Round+=1\n",
    "                time.sleep(1)\n",
    "                clear_output(wait=True)\n",
    "                print(\"Round : {} Player : {} || \".format(math.ceil(Round/2),player))\n",
    "                print(\"Player {} Last Action {} \".format(str(player),action[0]))\n",
    "                game.show_field()\n",
    "                time.sleep(1)\n",
    "            elif player == 2:\n",
    "                clear()\n",
    "                clear_output(wait=True)\n",
    "                while(True):\n",
    "                    print(\"[0] : BUY\")\n",
    "                    print(\"[1] : GEM\")\n",
    "                    action_type = int(input(\"เลือก ACTION: \"))\n",
    "                    if(action_type!=1 and action_type!=0):\n",
    "                        clear_output(wait=True)\n",
    "                    else:\n",
    "                        break\n",
    "                if action_type ==\"1\":\n",
    "                    while(True):\n",
    "                        clear()\n",
    "                        clear_output(wait=True)\n",
    "                        game.show_field()\n",
    "                        buy_id = int(input(\"เลือก ID: \"))\n",
    "                        re_turn=game.action_buy(player,buy_id)\n",
    "                        if re_turn != False:\n",
    "                            break\n",
    "                elif action_type ==\"2\":\n",
    "                    i=0\n",
    "                    while(True):\n",
    "                        if i==2:\n",
    "                            break\n",
    "                        else:\n",
    "                            clear()\n",
    "                            clear_output(wait=True)\n",
    "                            game.show_field()\n",
    "                            gem_id = int(input(\"เลือก GEM: \"))\n",
    "                            if gem_id == \"1\" or gem_id ==\"1\" or gem_id==\"2\":\n",
    "                                re_turn1=game.action_gem(player,gem_id,type_play)\n",
    "                                if re_turn1!=False:\n",
    "                                    i+=1\n"
   ]
  },
  {
   "cell_type": "code",
   "execution_count": 8,
   "metadata": {},
   "outputs": [],
   "source": [
    "def legal_moves(board):\n",
    "    return np.asarray(np.where(board == 0)).flatten()\n"
   ]
  },
  {
   "cell_type": "code",
   "execution_count": 21,
   "metadata": {},
   "outputs": [
    {
     "name": "stdout",
     "output_type": "stream",
     "text": [
      "[0, 1, 1, 0, 0, 0, 1, 0, 0, 0, 0, 0, 0, 1, 0, 0, 0, 0, 0, 1, 0, 0, 0, 0, 0, 0, 0]\n",
      "[ 0  3  4  5  7  8  9 10 11 12 14 15 16 17 18 20 21 22 23 24 25 26]\n"
     ]
    }
   ],
   "source": [
    "open_used = [0,1,1,0,0,0,1,0,0,0,0,0,0,1,0,0,0,0,0,1,0,0,0,0,0,0,0]\n",
    "Y=np.array(open_used)\n",
    "#p=legal_moves(open_used)\n",
    "print(open_used)\n",
    "p=np.asarray(np.where(Y == 0)).flatten()\n",
    "print(p)"
   ]
  }
 ],
 "metadata": {
  "kernelspec": {
   "display_name": "Python 3.10.4 ('env': venv)",
   "language": "python",
   "name": "python3"
  },
  "language_info": {
   "codemirror_mode": {
    "name": "ipython",
    "version": 3
   },
   "file_extension": ".py",
   "mimetype": "text/x-python",
   "name": "python",
   "nbconvert_exporter": "python",
   "pygments_lexer": "ipython3",
   "version": "3.10.4"
  },
  "orig_nbformat": 4,
  "vscode": {
   "interpreter": {
    "hash": "2fbaaa861d47308307a9c0a4888aa48b2afe1eca849a024421544c96b5ac1bcc"
   }
  }
 },
 "nbformat": 4,
 "nbformat_minor": 2
}
