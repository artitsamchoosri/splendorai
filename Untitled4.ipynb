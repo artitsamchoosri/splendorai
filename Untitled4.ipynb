{
  "nbformat": 4,
  "nbformat_minor": 0,
  "metadata": {
    "colab": {
      "provenance": []
    },
    "kernelspec": {
      "name": "python3",
      "display_name": "Python 3"
    },
    "language_info": {
      "name": "python"
    }
  },
  "cells": [
    {
      "cell_type": "code",
      "execution_count": null,
      "metadata": {
        "id": "fURJs3YQVLZA"
      },
      "outputs": [],
      "source": [
        "import numpy as np\n",
        "import random\n",
        "from collections import defaultdict\n",
        "import json"
      ]
    },
    {
      "cell_type": "code",
      "source": [
        "class ttt:\n",
        "    def __init__(self):\n",
        "        self.board = np.array([None] * 9)\n",
        "\n",
        "    @staticmethod\n",
        "    #เช็คคะแนนจาก array input ตามเงือนไข\n",
        "    def check_for_win(board):\n",
        "        WIN_STATES = [\n",
        "            (0,1,2),\n",
        "            (3,4,5),\n",
        "            (6,7,8),\n",
        "            (0,3,6),\n",
        "            (1,4,7),\n",
        "            (2,5,8),\n",
        "            (0,4,8),\n",
        "            (2,4,6)\n",
        "        ]\n",
        "\n",
        "        for a, b, c in WIN_STATES:\n",
        "            if board[a] == board[b] == board[c] and board[a] == 1:\n",
        "                return 100\n",
        "            elif board[a] == board[b] == board[c] and board[a] == 2:\n",
        "                return -100\n",
        "        if len(ttt.legal_moves(board)) == 0:\n",
        "            return 50\n",
        "        else:\n",
        "            return 0\n",
        "    \n",
        "    @staticmethod\n",
        "    def legal_moves(board):\n",
        "        return np.asarray(np.where(board == None)).flatten()\n",
        "\n",
        "    def update_board(self, player, move):\n",
        "        self.board[move] = player\n",
        "        return self.check_for_win(self.board)      \n",
        "\n",
        "    @staticmethod\n",
        "    def display_board(board):\n",
        "        def convert_board(board):\n",
        "            readable_board = [' '] * 9\n",
        "            for i in range(len(board)):\n",
        "                if board[i] == 1:\n",
        "                    readable_board[i] = 'X'\n",
        "                elif board[i] == 2:\n",
        "                    readable_board[i] = 'O'\n",
        "            return readable_board\n",
        "        board = convert_board(board)\n",
        "        print(' {:1} | {:1} | {:1}'.format(board[0],board[1],board[2]))\n",
        "        print('-----------')\n",
        "        print(' {:1} | {:1} | {:1}'.format(board[3],board[4],board[5]))\n",
        "        print('-----------')\n",
        "        print(' {:1} | {:1} | {:1}'.format(board[6],board[7],board[8]))"
      ],
      "metadata": {
        "id": "V6N1iUGZVSd8"
      },
      "execution_count": null,
      "outputs": []
    },
    {
      "cell_type": "code",
      "source": [
        "#Random play\n",
        "def random_play():\n",
        "    q = defaultdict(lambda: [0,0,0,0,0,0,0,0,0])\n",
        "    rewards = np.array([])\n",
        "    games = [ttt() for i in range(50000)]\n",
        "    \n",
        "#     Hyperparameters\n",
        "    epsilon = 1\n",
        "    epsilon_min = 0.05\n",
        "    epsilon_decay = 0.999997\n",
        "    gamma = 0.9\n",
        "    alpha = 0.1\n",
        "\n",
        "    def p1_turn(game):\n",
        "        def new_q(q, moves):\n",
        "            new_q = [0] * 9\n",
        "            for i in range(len(q)):\n",
        "                if i not in moves:\n",
        "                    new_q[i] = -200\n",
        "                else:\n",
        "                    new_q[i] = q[i]\n",
        "            return new_q\n",
        "\n",
        "        legal_moves = ttt.legal_moves(game.board)\n",
        "        if (random.uniform(0, 1) > epsilon):\n",
        "            move = np.argmax(new_q(q[str(game.board)], legal_moves))\n",
        "        else:\n",
        "            move = np.random.choice(legal_moves)\n",
        "        old_board = game.board.copy()\n",
        "        \n",
        "#         generating new state after player 1 and 2 move\n",
        "        game.update_board(1, move)\n",
        "        p2_turn(game)\n",
        "\n",
        "        if not(np.array_equal(old_board, game.board)):\n",
        "            updateQ(old_board, move, game.board, ttt.check_for_win(game.board))\n",
        "    \n",
        "    def p2_turn(game):\n",
        "        legal_moves = ttt.legal_moves(game.board)\n",
        "        if (len(legal_moves) != 0):\n",
        "            move = np.random.choice(legal_moves)\n",
        "            game.update_board(2, move)\n",
        "\n",
        "#     Q(s)[a] :=r+γ maxa′Q(s′)[a′]\n",
        "#     r = reward of new state i.e. game.check_for_win(s')\n",
        "#     maxa'Q(s')[a'] is just querying the table for s' and picking the largest value in the returned array\n",
        "#     each update just changes one value out of [0,0,0,0,0,0,0,0,0] array\n",
        "#     new state needs to be after opponent moves\n",
        "    def updateQ(s, a, new_s, r):\n",
        "#         [0,0,0,0,0,0,0,0,0]\n",
        "        q_value = q[str(s)].copy()\n",
        "        q_value[a] = ((1 - alpha) * q_value[a]) + (alpha * (r + (gamma * max(q[str(new_s)]))))\n",
        "        q[str(s)] = q_value\n",
        "\n",
        "    for game in games:\n",
        "        first = random.randint(1,2)\n",
        "#         Switch these out for AI first or random first\n",
        "#         p_order = [1, 2]\n",
        "        p_order = [first, 3-first]\n",
        "\n",
        "        if (p_order[0] == 2):\n",
        "            p2_turn(game)\n",
        "        while (ttt.check_for_win(game.board) == 0):\n",
        "            p1_turn(game)\n",
        "    \n",
        "        rewards = np.append(rewards, ttt.check_for_win(game.board))\n",
        "        if (epsilon > epsilon_min):\n",
        "            epsilon *= epsilon_decay\n",
        "\n",
        "    fo = open(\"qtable.json\", \"w\")\n",
        "    json.dump(q, fo)\n",
        "    fo.close()\n",
        "#     len(q) AI first ~ 3217\n",
        "#     len(q) random first ~ 6115, almost double as when always going first\n",
        "    print(\"Player 1 Wins: \", np.asarray(np.where(rewards == 100)).flatten().size/len(rewards))\n",
        "    print(\"Player 2 Wins: \", np.asarray(np.where(rewards == -100)).flatten().size/len(rewards))\n",
        "    print(\"Ties: \", np.asarray(np.where(rewards == 50)).flatten().size/len(rewards))\n",
        "    return q"
      ],
      "metadata": {
        "id": "cRaR6GNGVXqq"
      },
      "execution_count": null,
      "outputs": []
    },
    {
      "cell_type": "code",
      "source": [
        "def q_play(q):\n",
        "    rewards = np.array([])\n",
        "    games = [ttt() for i in range(100000)]\n",
        "\n",
        "    def p_turn(player, game):\n",
        "        def new_q(q, moves):\n",
        "            new_q = [0] * 9\n",
        "            for i in range(len(q)):\n",
        "                if i not in moves:\n",
        "                    new_q[i] = -200\n",
        "                else:\n",
        "                    new_q[i] = q[i]\n",
        "            return new_q\n",
        "\n",
        "        legal_moves = ttt.legal_moves(game.board)\n",
        "        old_board = game.board.copy()        \n",
        "        if (player == 1):\n",
        "            move = np.argmax(new_q(q[str(game.board)], legal_moves))\n",
        "        else:\n",
        "            move = np.random.choice(legal_moves)\n",
        "        game.update_board(player, move)\n",
        "\n",
        "    for game in games:\n",
        "        first = random.randint(1,2)\n",
        "#         Switch these out for AI first or random first\n",
        "#         p_order = [1, 2]\n",
        "        p_order = [first, 3-first]\n",
        "\n",
        "        while (ttt.check_for_win(game.board) == 0):\n",
        "            p_turn(p_order[0], game)\n",
        "            if (ttt.check_for_win(game.board) != 0 or len(ttt.legal_moves(game.board)) == 0):\n",
        "                break\n",
        "            p_turn(p_order[1], game)\n",
        "    \n",
        "        rewards = np.append(rewards, ttt.check_for_win(game.board))\n",
        "\n",
        "    print()\n",
        "    print(\"Player 1 Wins: \", np.asarray(np.where(rewards == 100)).flatten().size/len(rewards))\n",
        "    print(\"Player 2 Wins: \", np.asarray(np.where(rewards == -100)).flatten().size/len(rewards))\n",
        "    print(\"Ties: \", np.asarray(np.where(rewards == 50)).flatten().size/len(rewards))"
      ],
      "metadata": {
        "id": "CEveOfH4Va_y"
      },
      "execution_count": null,
      "outputs": []
    },
    {
      "cell_type": "code",
      "source": [
        "%matplotlib inline\n",
        "import matplotlib.pyplot as plt\n",
        "\n",
        "# training data\n",
        "games = [1000, 5000, 10000, 20000, 30000, 50000, 75000, 100000]\n",
        "wins = [0.6208, 0.7271, 0.8217, 0.8718, 0.8861, 0.899, 0.9143, 0.9163]\n",
        "loses = [0.3078, 0.1649, 0.1245, 0.0542, 0.0353, 0.0261, 0.0091, 0.0054]\n",
        "ties = [0.0714, 0.108, 0.0538, 0.074, 0.0786, 0.0749, 0.0766, 0.0783]\n",
        "\n",
        "fig = plt.figure()\n",
        "plt.plot(games, wins, linestyle='-', label='Wins')\n",
        "plt.plot(games, loses, linestyle='--', label='Loses')\n",
        "plt.plot(games, ties, linestyle='-.', label='Ties')\n",
        "plt.xlabel('Training games')\n",
        "plt.ylabel('Percentage')\n",
        "plt.title('Winning Percentage during Training')\n",
        "plt.legend()"
      ],
      "metadata": {
        "id": "S5t9AvAsVf3b"
      },
      "execution_count": null,
      "outputs": []
    },
    {
      "cell_type": "code",
      "source": [
        "q_play(random_play())"
      ],
      "metadata": {
        "colab": {
          "base_uri": "https://localhost:8080/"
        },
        "id": "pQfgITXTVnHq",
        "outputId": "c299f7a2-d95c-4047-c545-ff82e51fec83"
      },
      "execution_count": null,
      "outputs": [
        {
          "output_type": "stream",
          "name": "stdout",
          "text": [
            "Player 1 Wins:  0.3904\n",
            "Player 2 Wins:  0.4844\n",
            "Ties:  0.1252\n",
            "\n",
            "Player 1 Wins:  0.6816\n",
            "Player 2 Wins:  0.222\n",
            "Ties:  0.0964\n"
          ]
        }
      ]
    },
    {
      "cell_type": "code",
      "source": [
        "q_play(random_play())"
      ],
      "metadata": {
        "colab": {
          "base_uri": "https://localhost:8080/"
        },
        "id": "IFUvulT5WGJr",
        "outputId": "ba20f103-3dcf-4645-d58e-c1ccc9566a65"
      },
      "execution_count": null,
      "outputs": [
        {
          "output_type": "stream",
          "name": "stdout",
          "text": [
            "Player 1 Wins:  0.41522\n",
            "Player 2 Wins:  0.45878\n",
            "Ties:  0.126\n",
            "\n",
            "Player 1 Wins:  0.91144\n",
            "Player 2 Wins:  0.0204\n",
            "Ties:  0.06816\n"
          ]
        }
      ]
    },
    {
      "cell_type": "code",
      "source": [
        "from IPython.display import display, HTML\n",
        "from base64 import b64encode\n",
        "from io import BytesIO\n",
        "import seaborn as sns\n",
        "import matplotlib.pyplot as plt\n",
        "from matplotlib import cm\n",
        "\n",
        "def display_ai(board, q):\n",
        "    def convert_board(board):\n",
        "            readable_board = [' '] * 9\n",
        "            for i in range(len(board)):\n",
        "                if board[i] == 1:\n",
        "                    readable_board[i] = 'X'\n",
        "                elif board[i] == 2:\n",
        "                    readable_board[i] = 'O'\n",
        "                else:\n",
        "                    readable_board[i] = '&blk14;'\n",
        "            return readable_board\n",
        "    board = convert_board(board)    \n",
        "    heatmap = [[q[0], q[1], q[2]], [q[3], q[4], q[5]], [q[6], q[7], q[8]]]\n",
        "    board = ['{:1} | {:1} | {:1}'.format(board[0],board[1],board[2]),\n",
        "             '-----------',\n",
        "             '{:1} | {:1} | {:1}'.format(board[3],board[4],board[5]),\n",
        "             '-----------',\n",
        "             '{:1} | {:1} | {:1}'.format(board[6],board[7],board[8])]\n",
        "    fig, ax = plt.subplots()\n",
        "    hm = ax.imshow(heatmap, cmap='coolwarm')\n",
        "    cbar_kws={'label': 'Expected Reward'}\n",
        "    cbar = ax.figure.colorbar(hm, ax=ax, **cbar_kws)\n",
        "#     hm = sns.heatmap(heatmap, cmap=sns.diverging_palette(10, 220, sep=80, n=100), cbar_kws={'label': 'Expected Reward'})\n",
        "    figdata = BytesIO()\n",
        "    plt.savefig(figdata, format='png')\n",
        "    plt.clf()\n",
        "    datatable = '<table><tr><td>{1}<br/>{2}<br/>{3}<br/>{4}<br/>{5}</td><td><img src=\"data:image/png;base64,{0}\"/></td></tr></table>'.format(b64encode(figdata.getvalue()).decode(),\n",
        "                                                                                                                                             board[0], board[1], board[2], board[3], board[4])\n",
        "    display(HTML(datatable))     "
      ],
      "metadata": {
        "id": "PcgZ49dZW5ub"
      },
      "execution_count": null,
      "outputs": []
    },
    {
      "cell_type": "code",
      "source": [
        "def human_play():\n",
        "#     or 'aifirst.json'\n",
        "#     or 'qtables.json'\n",
        "    with open('qtable.json') as f:\n",
        "        q = json.load(f)\n",
        "    game = ttt()\n",
        "\n",
        "    def p_turn(game):\n",
        "        def new_q(q, moves):\n",
        "            new_q = [0] * 9\n",
        "            for i in range(len(q)):\n",
        "                if i not in moves:\n",
        "                    new_q[i] = -200\n",
        "                else:\n",
        "                    new_q[i] = q[i]\n",
        "            return new_q\n",
        "\n",
        "        legal_moves = ttt.legal_moves(game.board)\n",
        "        old_board = game.board.copy() \n",
        "        display_ai(old_board, q[str(old_board)])\n",
        "#         print(q[str(game.board)])       \n",
        "        move = np.argmax(new_q(q[str(game.board)], legal_moves))\n",
        "        game.update_board(1, move)\n",
        "\n",
        "    def h_turn(game):\n",
        "        ttt.display_board(game.board)\n",
        "        move = input('Where would you like to play (0-8): ')\n",
        "        game.update_board(2, int(move))\n",
        "\n",
        "    first = random.randint(1,2)\n",
        "#     Switch these out for AI first or random first\n",
        "#     p_order = [1, 2]\n",
        "    p_order = [first, 3-first]\n",
        "    while (ttt.check_for_win(game.board) == 0):\n",
        "        if (p_order[0] == 1):\n",
        "            p_turn(game)\n",
        "        else:\n",
        "            h_turn(game)\n",
        "        if (ttt.check_for_win(game.board) != 0):\n",
        "            ttt.display_board(game.board)\n",
        "            break\n",
        "        if (p_order[0] == 1):\n",
        "            h_turn(game)\n",
        "        else:\n",
        "            p_turn(game)\n",
        "            \n",
        "    print()\n",
        "    if (ttt.check_for_win(game.board) == 100):\n",
        "        print('AI wins')\n",
        "    elif (ttt.check_for_win(game.board) == -100):\n",
        "        print('You somehow beat the AI')\n",
        "    else:\n",
        "        print('You both played a perfect game. Tie')"
      ],
      "metadata": {
        "id": "0vk37qikWvb6"
      },
      "execution_count": null,
      "outputs": []
    },
    {
      "cell_type": "code",
      "source": [
        "human_play()"
      ],
      "metadata": {
        "colab": {
          "base_uri": "https://localhost:8080/",
          "height": 1000
        },
        "id": "evbuOKxxW96i",
        "outputId": "88c13e0d-a639-4c12-d9ab-c4996f4eb33e"
      },
      "execution_count": null,
      "outputs": [
        {
          "name": "stdout",
          "output_type": "stream",
          "text": [
            "   |   |  \n",
            "-----------\n",
            "   |   |  \n",
            "-----------\n",
            "   |   |  \n",
            "Where would you like to play (0-8): 0\n"
          ]
        },
        {
          "output_type": "display_data",
          "data": {
            "text/plain": [
              "<IPython.core.display.HTML object>"
            ],
            "text/html": [
              "<table><tr><td>O | &blk14; | &blk14;<br/>-----------<br/>&blk14; | &blk14; | &blk14;<br/>-----------<br/>&blk14; | &blk14; | &blk14;</td><td><img src=\"data:image/png;base64,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\"/></td></tr></table>"
            ]
          },
          "metadata": {}
        },
        {
          "name": "stdout",
          "output_type": "stream",
          "text": [
            " O |   |  \n",
            "-----------\n",
            "   | X |  \n",
            "-----------\n",
            "   |   |  \n",
            "Where would you like to play (0-8): 8\n"
          ]
        },
        {
          "output_type": "display_data",
          "data": {
            "text/plain": [
              "<IPython.core.display.HTML object>"
            ],
            "text/html": [
              "<table><tr><td>O | &blk14; | &blk14;<br/>-----------<br/>&blk14; | X | &blk14;<br/>-----------<br/>&blk14; | &blk14; | O</td><td><img src=\"data:image/png;base64,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\"/></td></tr></table>"
            ]
          },
          "metadata": {}
        },
        {
          "name": "stdout",
          "output_type": "stream",
          "text": [
            " O | X |  \n",
            "-----------\n",
            "   | X |  \n",
            "-----------\n",
            "   |   | O\n",
            "Where would you like to play (0-8): 7\n"
          ]
        },
        {
          "output_type": "display_data",
          "data": {
            "text/plain": [
              "<IPython.core.display.HTML object>"
            ],
            "text/html": [
              "<table><tr><td>O | X | &blk14;<br/>-----------<br/>&blk14; | X | &blk14;<br/>-----------<br/>&blk14; | O | O</td><td><img src=\"data:image/png;base64,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\"/></td></tr></table>"
            ]
          },
          "metadata": {}
        },
        {
          "name": "stdout",
          "output_type": "stream",
          "text": [
            " O | X |  \n",
            "-----------\n",
            " X | X |  \n",
            "-----------\n",
            "   | O | O\n",
            "Where would you like to play (0-8): 2\n"
          ]
        },
        {
          "output_type": "display_data",
          "data": {
            "text/plain": [
              "<IPython.core.display.HTML object>"
            ],
            "text/html": [
              "<table><tr><td>O | X | O<br/>-----------<br/>X | X | &blk14;<br/>-----------<br/>&blk14; | O | O</td><td><img src=\"data:image/png;base64,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\"/></td></tr></table>"
            ]
          },
          "metadata": {}
        },
        {
          "output_type": "stream",
          "name": "stdout",
          "text": [
            "\n",
            "AI wins\n"
          ]
        },
        {
          "output_type": "display_data",
          "data": {
            "text/plain": [
              "<Figure size 432x288 with 0 Axes>"
            ]
          },
          "metadata": {}
        },
        {
          "output_type": "display_data",
          "data": {
            "text/plain": [
              "<Figure size 432x288 with 0 Axes>"
            ]
          },
          "metadata": {}
        },
        {
          "output_type": "display_data",
          "data": {
            "text/plain": [
              "<Figure size 432x288 with 0 Axes>"
            ]
          },
          "metadata": {}
        },
        {
          "output_type": "display_data",
          "data": {
            "text/plain": [
              "<Figure size 432x288 with 0 Axes>"
            ]
          },
          "metadata": {}
        }
      ]
    }
  ]
}